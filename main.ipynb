{
 "cells": [
  {
   "cell_type": "markdown",
   "id": "270727cc-eec1-4f84-8eae-cae6022f30a2",
   "metadata": {},
   "source": [
    "## INSTALAR LAS DEPENDENCIAS NECESARIAS PARA USAR EL NOTEBOOK"
   ]
  },
  {
   "cell_type": "code",
   "execution_count": null,
   "id": "ef47ae64-abd4-4e18-8b4d-894ab3ffe5cd",
   "metadata": {},
   "outputs": [],
   "source": [
    "!pip install numpy pandas matplotlib python-dotenv requests "
   ]
  },
  {
   "cell_type": "markdown",
   "id": "46658483-658d-4e0c-9020-a07245ec2b66",
   "metadata": {},
   "source": [
    "## IMPORTAR LIBRERIAS"
   ]
  },
  {
   "cell_type": "code",
   "execution_count": null,
   "id": "64a7feb9-c819-4b3b-ba85-c8072d11db45",
   "metadata": {},
   "outputs": [],
   "source": [
    "import os\n",
    "from dotenv import load_dotenv\n",
    "import requests\n",
    "import time\n",
    "import pandas as pd\n",
    "import matplotlib.pyplot as plt"
   ]
  },
  {
   "cell_type": "markdown",
   "id": "3176fc59-8d32-4753-b6f9-9b8ad329103d",
   "metadata": {},
   "source": [
    "## CARGAR CREDENCIALES DESDE UN ARCHIVO .ENV\n",
    "Deberas crear un archivo \".env\" en el mismo directorio de este documento. Alli cargar tus credenciales como\n",
    "IOL_USERNAME=TuUsuarioDeIOL\n",
    "IOL_PASSWORD=TuContraseñaDeIOL"
   ]
  },
  {
   "cell_type": "code",
   "execution_count": null,
   "id": "c0284f40-b45a-490a-82b6-2bbfef06a767",
   "metadata": {},
   "outputs": [],
   "source": [
    "load_dotenv()\n",
    "IOL_USERNAME = os.getenv(\"IOL_USERNAME\")\n",
    "IOL_PASSWORD = os.getenv(\"IOL_PASSWORD\")\n",
    "#Levanto error si falla alguna credencial\n",
    "if not IOL_USERNAME or not IOL_PASSWORD:\n",
    "    raise ValueError(\"Faltan las credenciales en el archivo .env\")"
   ]
  },
  {
   "cell_type": "markdown",
   "id": "52464a1f-fedf-4121-9d56-5555aed0bbb0",
   "metadata": {},
   "source": [
    "## AUTENTICACION Y MANEJO DE TOKENS\n",
    "Bearer Token: Es el token principal que se usa para autenticar cada request. Tiene una validez limitada (15 minutos en este caso).\n",
    "Refresh Token: Permite renovar el bearer token sin necesidad de proporcionar nuevamente el usuario y contraseña. Este método mejora la seguridad y reduce el uso indebido de credenciales.\n",
    "Renovación Automática: El código detecta si el bearer token ha expirado y automáticamente lo renueva utilizando el refresh token."
   ]
  },
  {
   "cell_type": "code",
   "execution_count": null,
   "id": "6899741b-2e61-485e-8dd6-16c4f22a395f",
   "metadata": {},
   "outputs": [],
   "source": [
    "BASE_URL = \"https://api.invertironline.com\"\n",
    "TOKEN_URL = f\"{BASE_URL}/token\"\n",
    "\n",
    "class InvertirOnlineAPI:\n",
    "    def __init__(self, username, password):\n",
    "        self.username = username\n",
    "        self.password = password\n",
    "        self.bearer_token = None\n",
    "        self.refresh_token = None\n",
    "        self.token_expiry = None\n",
    "\n",
    "#Autenticar al usuario y obtener tokens\n",
    "    def authenticate(self):\n",
    "        data = {\n",
    "            \"username\": self.username,\n",
    "            \"password\": self.password,\n",
    "            \"grant_type\": \"password\"\n",
    "        }\n",
    "        response = requests.post(TOKEN_URL, data=data)\n",
    "        response.raise_for_status()\n",
    "        tokens = response.json()\n",
    "        self.bearer_token = tokens[\"access_token\"]\n",
    "        self.refresh_token = tokens[\"refresh_token\"]\n",
    "        self.token_expiry = time.time() + tokens[\"expires_in\"] - 60  #Margen de seguridad\n",
    "        print(\"Autenticación exitosa. Bearer token obtenido.\")\n",
    "\n",
    "#Refrescar el bearer token\n",
    "    def refresh_bearer_token(self):\n",
    "        if not self.refresh_token:\n",
    "            raise ValueError(\"Refresh token no disponible. Autentica primero.\")\n",
    "        data = {\n",
    "            \"refresh_token\": self.refresh_token,\n",
    "            \"grant_type\": \"refresh_token\"\n",
    "        }\n",
    "        response = requests.post(TOKEN_URL, data=data)\n",
    "        response.raise_for_status()\n",
    "        tokens = response.json()\n",
    "        self.bearer_token = tokens[\"access_token\"]\n",
    "        self.token_expiry = time.time() + tokens[\"expires_in\"] - 60\n",
    "        print(\"Bearer token renovado.\")\n",
    "\n",
    "#Devolver los headers\n",
    "    def get_headers(self):\n",
    "        if not self.bearer_token or time.time() > self.token_expiry:\n",
    "            print(\"Token expirado o no disponible. Renovando...\")\n",
    "            self.refresh_bearer_token()\n",
    "        return {\n",
    "            \"Authorization\": f\"Bearer {self.bearer_token}\"\n",
    "        }\n",
    "\n",
    "#Crear instancia de la API\n",
    "iol_api = InvertirOnlineAPI(IOL_USERNAME, IOL_PASSWORD)\n",
    "iol_api.authenticate()"
   ]
  },
  {
   "cell_type": "markdown",
   "id": "5df82c22-5275-4777-a2ca-3d931759728b",
   "metadata": {},
   "source": [
    "## COTIZACION DOLAR MEP"
   ]
  },
  {
   "cell_type": "code",
   "execution_count": null,
   "id": "da4c6543-771a-40e4-a634-14c90a0aa6b9",
   "metadata": {},
   "outputs": [],
   "source": [
    "#Obtener el valor del USD MEP, por arguumento pasar el simbolo del activo a usar para el calculo\n",
    "#Devuelve float del USD MEP\n",
    "def obtener_dolar_mep(simbolo):\n",
    "    endpoint = f\"{BASE_URL}/api/v2/Cotizaciones/MEP/{simbolo}\"\n",
    "    headers = iol_api.get_headers()\n",
    "    #Realizar la solicitud GET al endpoint\n",
    "    response = requests.get(endpoint, headers=headers)\n",
    "    response.raise_for_status()  # Levanta excepción si ocurre un error\n",
    "    #Obtener la respuesta en formato JSON\n",
    "    cotizacion_data = response.json()\n",
    "    # Si la respuesta es un float directamente, asignamos a dolar_mep\n",
    "    if isinstance(cotizacion_data, float):\n",
    "        dolar_mep = cotizacion_data\n",
    "    else:\n",
    "        # Si la respuesta es un diccionario, extraemos el valor como antes\n",
    "        dolar_mep = cotizacion_data.get(\"valor\", None)\n",
    "    return dolar_mep\n",
    "\n",
    "#Obtener el valor del Dólar MEP para el símbolo AL30\n",
    "simbolo = \"AL30\"\n",
    "dolar_mep = obtener_dolar_mep(simbolo)\n",
    "\n",
    "#Imprimo el valor del dolar MEP\n",
    "print(f\"El valor del Dólar MEP para el símbolo {simbolo} es: {dolar_mep}\")"
   ]
  },
  {
   "cell_type": "markdown",
   "id": "dda3dce4-4d7f-42ca-91e0-f89a5ffbf27a",
   "metadata": {},
   "source": [
    "## ESTADO DE CUENTA SIMPLIFICADO\n",
    "Devuelve dataframe con cuentas, moneda de la misma, saldos disponibles, valorizacion de titulos y total"
   ]
  },
  {
   "cell_type": "code",
   "execution_count": null,
   "id": "4c93ee7d-deba-468e-a55b-bcf916e1b7bc",
   "metadata": {},
   "outputs": [],
   "source": [
    "#Obtengo el estado de cuenta del usario, devuelve diccionario con informacion\n",
    "def get_estado_cuenta():\n",
    "    endpoint = f\"{BASE_URL}/api/v2/estadocuenta\"\n",
    "    headers = iol_api.get_headers()\n",
    "    # Realizar la solicitud GET al endpoint\n",
    "    response = requests.get(endpoint, headers=headers)\n",
    "    response.raise_for_status()  # Levanta excepción si ocurre un error\n",
    "    # Devuelve los datos como un diccionario\n",
    "    return response.json()\n",
    "\n",
    "#Llamo a la funcion\n",
    "estado_cuenta = get_estado_cuenta()\n",
    "\n",
    "#Proceso la informacion, acepta por argumento diccionario para el estado de cuenta, devuelve pd.DataFrame\n",
    "def procesar_estado_cuenta(data):\n",
    "    cuentas = data.get(\"cuentas\", [])\n",
    "    #Extraigo las columnas relevantes\n",
    "    procesado = [\n",
    "        {\n",
    "            \"Número de Cuenta\": cuenta.get(\"numero\"),\n",
    "            \"Tipo\": cuenta.get(\"tipo\"),\n",
    "            \"Moneda\": cuenta.get(\"moneda\"),\n",
    "            \"Saldo Disponible\": cuenta.get(\"saldo\"),\n",
    "            \"Títulos Valorizados\": cuenta.get(\"titulosValorizados\"),\n",
    "            \"Total\": cuenta.get(\"total\")\n",
    "        }\n",
    "        for cuenta in cuentas\n",
    "    ]\n",
    "    return pd.DataFrame(procesado)\n",
    "\n",
    "#Configura pandas para no usar notación científica\n",
    "pd.set_option(\"display.float_format\", \"{:.2f}\".format)\n",
    "#Procesar los datos\n",
    "df_estado_cuenta = procesar_estado_cuenta(estado_cuenta)\n",
    "#Mostrar el DataFrame\n",
    "print(\"Estado de Cuenta Procesado:\")\n",
    "df_estado_cuenta"
   ]
  },
  {
   "cell_type": "markdown",
   "id": "84a6064c-5f5d-4a16-824e-e1f0773e66d4",
   "metadata": {},
   "source": [
    "## PARA VER LA TOTALIDAD DE LOS ACTIVOS"
   ]
  },
  {
   "cell_type": "code",
   "execution_count": null,
   "id": "15cb6b90-2922-48af-a392-38e3274f6adb",
   "metadata": {},
   "outputs": [],
   "source": [
    "#Obtengo el portafolio para el pais especificado  lo proceso. El pais se pasa por argumento y toma el valor del UUSD MEP antes usado\n",
    "#Devuelve pd.DataFrame con el portafolio\n",
    "def obtener_y_procesar_portafolio(pais, dolar_mep):\n",
    "    # Endpoint para obtener el portafolio\n",
    "    endpoint = f\"{BASE_URL}/api/v2/portafolio/{pais}\"\n",
    "    headers = iol_api.get_headers()\n",
    "    # Solicitar datos de portafolio a la API\n",
    "    response = requests.get(endpoint, headers=headers)\n",
    "    response.raise_for_status()  # Levantar error si la solicitud falla\n",
    "    portafolio_data = response.json()\n",
    "    # Procesar los activos del portafolio\n",
    "    activos = portafolio_data.get(\"activos\", [])\n",
    "    procesado = [\n",
    "        {\n",
    "            \"Simbolo\": activo[\"titulo\"].get(\"simbolo\"),\n",
    "            \"Descripcion\": activo[\"titulo\"].get(\"descripcion\"),\n",
    "            \"Cantidad\": activo.get(\"cantidad\"),\n",
    "            \"Ultimo Precio\": activo.get(\"ultimoPrecio\"),\n",
    "            \"PPC\": activo.get(\"ppc\"),\n",
    "            \"Ganancia Porcentaje\": activo.get(\"gananciaPorcentaje\"),\n",
    "            \"Ganancia en Dinero\": activo.get(\"gananciaDinero\"),\n",
    "            \"Valorizado\": activo.get(\"valorizado\"),\n",
    "            \"Tipo de Activo\": activo[\"titulo\"].get(\"tipo\"),\n",
    "            \"Mercado\": activo[\"titulo\"].get(\"mercado\"),\n",
    "            \"Moneda\": activo[\"titulo\"].get(\"moneda\"),\n",
    "            \"Valorizado USD MEP\": activo.get(\"valorizado\") / dolar_mep\n",
    "            if activo[\"titulo\"].get(\"moneda\") == \"peso_Argentino\"\n",
    "            else activo.get(\"valorizado\"),\n",
    "        }\n",
    "        for activo in activos\n",
    "    ]\n",
    "\n",
    "    # Convertir la lista procesada en un DataFrame\n",
    "    return pd.DataFrame(procesado)\n",
    "\n",
    "#Llamo a la funcion\n",
    "pais = \"Argentina\"\n",
    "df_portafolio_procesado = obtener_y_procesar_portafolio(pais, dolar_mep)\n",
    "\n",
    "# Mostrar el DataFrame procesado\n",
    "print(f\"Portafolio procesado de {pais}:\")\n",
    "df_portafolio_procesado"
   ]
  },
  {
   "cell_type": "markdown",
   "id": "2813f385-5a3b-48cb-ae48-4ce2764468ec",
   "metadata": {},
   "source": [
    "## PARA VER TENENCIAS VALORIZADAS EN USD MEP Y GRAFICO DE TORTA"
   ]
  },
  {
   "cell_type": "code",
   "execution_count": null,
   "id": "1a146533-b92b-4538-a268-64a05b3f33aa",
   "metadata": {},
   "outputs": [],
   "source": [
    "#Divide el dataframe por tipo de activo, agrega la columna \"Valorizado USD MEP\" y si la moneda es \"peso_Argentino\n",
    "#divide la columna \"Valorizado\" por el valor del USD MEP. Toma por argumento el DataFrame con los activos y devuelve un diccionario \n",
    "#con DataFrames para cada tipo de activo\n",
    "def procesar_activos_por_tipo(df_activos, dolar_mep):\n",
    "    #Crear un diccionario para almacenar los DataFrames por tipo de activo\n",
    "    activos_por_tipo = {}\n",
    "    #Sumar los valores de valorización total\n",
    "    total_valorizado_general = 0\n",
    "    #Itero sobre cada tipo de activo único\n",
    "    for tipo in df_activos[\"Tipo de Activo\"].unique():\n",
    "        #Filtro el DataFrame por tipo de activo\n",
    "        df_tipo = df_activos[df_activos[\"Tipo de Activo\"] == tipo].copy()\n",
    "        #Agrego la columna \"Valorizado USD MEP\" y realizar la conversión si es necesario\n",
    "        df_tipo[\"Valorizado USD MEP\"] = df_tipo.apply(\n",
    "            lambda row: row[\"Valorizado\"] / dolar_mep if row[\"Moneda\"] == \"peso_Argentino\" else row[\"Valorizado\"], axis=1)\n",
    "        #Agrego el DataFrame filtrado al diccionario\n",
    "        activos_por_tipo[tipo] = df_tipo\n",
    "        #Imprimir la sumatoria de la columna \"Valorizado USD MEP\" para cada tipo de activo\n",
    "        total_valorizado = df_tipo[\"Valorizado USD MEP\"].sum()\n",
    "        print(f\"Total valorizado {tipo} USD-MEP: {total_valorizado:.2f}\")\n",
    "        #Sumar al total general\n",
    "        total_valorizado_general += total_valorizado\n",
    "    # Imprimir la suma total de valorización\n",
    "    print(f\"Total valorizado general USD-MEP: {total_valorizado_general:.2f}\")\n",
    "    return activos_por_tipo\n",
    "\n",
    "#Procesar los activos y obtener los DataFrames por tipo\n",
    "activos_por_tipo = procesar_activos_por_tipo(df_activos, dolar_mep)\n",
    "\n",
    "#Crear un grafico de torta. Argumento: diccionario con DataFrames\n",
    "def graficar_torta_valorizado(activos_por_tipo):\n",
    "    # Crear una lista con los totales valorizados para cada tipo de activo\n",
    "    tipos = []\n",
    "    totales_valorizados = []\n",
    "    for tipo, df_tipo in activos_por_tipo.items():\n",
    "        total_valorizado = df_tipo[\"Valorizado USD MEP\"].sum()\n",
    "        tipos.append(tipo)\n",
    "        totales_valorizados.append(total_valorizado)\n",
    "    #Crear el gráfico de torta\n",
    "    plt.figure(figsize=(6, 6)) #Tamaño del grafico (600x600 por defecto)\n",
    "    plt.pie(totales_valorizados, labels=tipos, autopct=\"%1.1f%%\", startangle=90, colors=plt.cm.Paired.colors)\n",
    "    plt.title(\"Distribución del Total Valorizado en USD MEP por Tipo de Activo\", fontsize=14)\n",
    "    plt.axis(\"equal\")  #Igualar el aspecto para un círculo perfecto\n",
    "    plt.show()\n",
    "\n",
    "#Llamo la funcion para graficar\n",
    "graficar_torta_valorizado(activos_por_tipo)"
   ]
  },
  {
   "cell_type": "markdown",
   "id": "3f532b4a-69eb-40f9-a1be-03c0d7b9db43",
   "metadata": {},
   "source": [
    "## DISTRIBUCION DE TENENCIAS POR SIMBOLO"
   ]
  },
  {
   "cell_type": "code",
   "execution_count": null,
   "id": "02c48666-1cd1-4930-9eb9-958d76158c4d",
   "metadata": {},
   "outputs": [],
   "source": [
    "#Muuestra un grafico de barras con las valorizaciones en USD MEP de cada simbolo agrupado por tipo de activo\n",
    "#Por argumento, diccionario con DataFrames de activos por tipo.\n",
    "def graficar_barras_valorizacion(activos_por_tipo):\n",
    "    plt.figure(figsize=(12, 8))\n",
    "    #Recorrer cada tipo de activo en el diccionario\n",
    "    for tipo, df_tipo in activos_por_tipo.items():\n",
    "        # Obtener los símbolos y sus respectivas valorizaciones en USD MEP\n",
    "        simbolos = df_tipo[\"Simbolo\"].apply(lambda x: x.get(\"simbolo\") if isinstance(x, dict) else x)\n",
    "        valorizados_usd_mep = df_tipo[\"Valorizado USD MEP\"]\n",
    "        plt.bar(simbolos, valorizados_usd_mep, label=tipo, alpha=0.7)\n",
    "    #Ajustar etiquetas y título\n",
    "    plt.xlabel(\"Símbolo\", fontsize=12)\n",
    "    plt.ylabel(\"Valorizado USD MEP\", fontsize=12)\n",
    "    plt.title(\"Valorización en USD MEP\", fontsize=14)\n",
    "    plt.xticks(rotation=90)  # Rotar las etiquetas en el eje x para mejor visualización\n",
    "    plt.legend(title=\"Tipo de Activo\")\n",
    "    plt.grid(axis=\"y\", alpha=0.3)\n",
    "    plt.tight_layout()  # Ajustar el diseño para que no se corten las etiquetas\n",
    "    plt.show()\n",
    "\n",
    "# Llamar a la función para graficar las barras\n",
    "graficar_barras_valorizacion(activos_por_tipo)"
   ]
  },
  {
   "cell_type": "markdown",
   "id": "9c755c06-5b19-443c-a4f1-36cd06af3d6a",
   "metadata": {},
   "source": [
    "# BONUS: VER ACTIVOS SEPARADOS POR TIPO"
   ]
  },
  {
   "cell_type": "code",
   "execution_count": null,
   "id": "b919cbae-9899-47e5-8969-d1873f985b33",
   "metadata": {},
   "outputs": [],
   "source": [
    "#Visualiza un DataFrame para uun tipo de activo en particular.\n",
    "#Cambiar la variable \"activo\" de CEDEARS al activo deseado (CEDEARS, TitulosPublicos, ObligacionesNegociables, ACCIONES, \n",
    "#FondoComundeInversion, Letras)\n",
    "activo = \"CEDEARS\"\n",
    "activos_por_tipo.get(activo, None)"
   ]
  }
 ],
 "metadata": {
  "kernelspec": {
   "display_name": "Python [conda env:base] *",
   "language": "python",
   "name": "conda-base-py"
  },
  "language_info": {
   "codemirror_mode": {
    "name": "ipython",
    "version": 3
   },
   "file_extension": ".py",
   "mimetype": "text/x-python",
   "name": "python",
   "nbconvert_exporter": "python",
   "pygments_lexer": "ipython3",
   "version": "3.12.7"
  }
 },
 "nbformat": 4,
 "nbformat_minor": 5
}
